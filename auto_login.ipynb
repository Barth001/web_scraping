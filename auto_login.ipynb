{
 "cells": [
  {
   "cell_type": "code",
   "execution_count": 1,
   "metadata": {},
   "outputs": [],
   "source": [
    "import requests\n",
    "from bs4 import BeautifulSoup"
   ]
  },
  {
   "cell_type": "code",
   "execution_count": 2,
   "metadata": {},
   "outputs": [
    {
     "name": "stdout",
     "output_type": "stream",
     "text": [
      "<Response [200]>\n"
     ]
    }
   ],
   "source": [
    "header = {\n",
    "    'user-agent': 'Mozilla/5.0 (Windows NT 10.0; Win64; x64) AppleWebKit/537.36 (KHTML, like Gecko) Chrome/87.0.4280.88 Safari/537.36'\n",
    "}\n",
    "\n",
    "login_data = {\n",
    "    'email': 'email address you used to signup in the website',\n",
    "    'password': 'your password'\n",
    "}\n",
    "\n",
    "url = 'https://www.codewars.com/users/sign_in'\n",
    "s = requests.Session()\n",
    "data = s.get(url, headers = header)\n",
    "soup = BeautifulSoup(data.content, 'html5lib')\n",
    "login_data['authenticity_token'] = soup.find('input', attrs={'name': 'authenticity_token'})['value']\n",
    "login_data = s.post(url, data=login_data, headers=header)\n",
    "print(login_data)\n",
    "# print(s.get('https://www.codewars.com/users/', headers=header).content)"
   ]
  },
  {
   "cell_type": "code",
   "execution_count": null,
   "metadata": {},
   "outputs": [],
   "source": []
  }
 ],
 "metadata": {
  "kernelspec": {
   "display_name": "Python 3",
   "language": "python",
   "name": "python3"
  },
  "language_info": {
   "codemirror_mode": {
    "name": "ipython",
    "version": 3
   },
   "file_extension": ".py",
   "mimetype": "text/x-python",
   "name": "python",
   "nbconvert_exporter": "python",
   "pygments_lexer": "ipython3",
   "version": "3.8.5"
  }
 },
 "nbformat": 4,
 "nbformat_minor": 4
}
